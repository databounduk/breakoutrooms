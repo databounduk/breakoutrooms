{
 "cells": [
  {
   "cell_type": "code",
   "execution_count": 167,
   "metadata": {},
   "outputs": [],
   "source": [
    "import itertools as it\n",
    "from itertools import combinations\n",
    "\n",
    "from typing import List\n",
    "\n",
    "from icecream import ic\n",
    "\n",
    "import random"
   ]
  },
  {
   "cell_type": "code",
   "execution_count": 274,
   "metadata": {},
   "outputs": [],
   "source": [
    "def create_unique_sessions(attendees: List[list], room_size: int) -> dict:\n",
    "    \"\"\"\n",
    "    Function to generate a possible number of scenrios for sessions everyone to meet each other\n",
    "\n",
    "    Parameters:\n",
    "        attendees : List - A list of the attendees for the session\n",
    "        room_size : int - A numerical value for the number of people per room\n",
    "    Return:\n",
    "        scenarios : dict - A dict of possible scenarios, key is the number of sessions and the value is attendees in session\n",
    "\n",
    "    \"\"\"\n",
    "\n",
    "    possible_sessions = list(it.combinations(attendees, room_size))\n",
    "    scenarios = {}\n",
    "\n",
    "    for i in range(1000):\n",
    "        # ic('Run')\n",
    "        random.shuffle(possible_sessions)\n",
    "        particpents = attendees[:]\n",
    "        choosen_sessions = []\n",
    "        for session in possible_sessions:\n",
    "            if not particpents:\n",
    "                # ic(\"no attendees left\")\n",
    "                break\n",
    "            for person in session:\n",
    "                try:\n",
    "                    particpents.remove(person)\n",
    "                except:\n",
    "                    pass\n",
    "                # ic(particpents, person)\n",
    "            choosen_sessions.append(session)\n",
    "            if not particpents:\n",
    "                # ic(\"no attendees left\")\n",
    "                break\n",
    "        # ic(len(choosen_sessions))\n",
    "        scenarios[len(choosen_sessions)] = choosen_sessions\n",
    "        \n",
    "    # ic(small_sen)\n",
    "    return scenarios"
   ]
  },
  {
   "cell_type": "code",
   "execution_count": 276,
   "metadata": {
    "tags": []
   },
   "outputs": [
    {
     "output_type": "stream",
     "name": "stderr",
     "text": [
      "ic| scenarios.keys(): dict_keys([3, 2, 4, 7, 6, 5, 8, 9])\n"
     ]
    },
    {
     "output_type": "execute_result",
     "data": {
      "text/plain": [
       "[('Jame Smith', 'Tim Peak', 'Terry Jones', 'Emma Frank', 'Bob Hope'),\n",
       " ('Jame Smith', 'Peter Jones', 'Sam Tompson', 'Sammy Smith', 'Emma Frank')]"
      ]
     },
     "metadata": {},
     "execution_count": 276
    }
   ],
   "source": [
    "attendees = \"\"\"\n",
    "Jame\tSmith\n",
    "Peter\tJones\n",
    "Tim\tPeak\n",
    "Sam\tTompson\n",
    "Terry\tJones\n",
    "Sammy\tSmith\n",
    "Emma\tFrank\n",
    "Bob\tHope\n",
    "\"\"\"\n",
    "\n",
    "attendees = attendees.replace(\"\\t\", \" \").strip().split(\"\\n\")\n",
    "create_unique_sessions(attendees, 5)"
   ]
  },
  {
   "cell_type": "code",
   "execution_count": null,
   "metadata": {},
   "outputs": [],
   "source": []
  }
 ],
 "metadata": {
  "kernelspec": {
   "name": "python3",
   "display_name": "Python 3.8.5 64-bit ('apps': conda)"
  },
  "language_info": {
   "codemirror_mode": {
    "name": "ipython",
    "version": 3
   },
   "file_extension": ".py",
   "mimetype": "text/x-python",
   "name": "python",
   "nbconvert_exporter": "python",
   "pygments_lexer": "ipython3",
   "version": "3.8.5"
  },
  "interpreter": {
   "hash": "9334c2222bff50373fc16edec58e6ef1800445c177251ac375785d5f00a1094d"
  }
 },
 "nbformat": 4,
 "nbformat_minor": 4
}