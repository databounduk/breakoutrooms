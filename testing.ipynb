{
 "cells": [
  {
   "cell_type": "code",
   "execution_count": 1,
   "metadata": {},
   "outputs": [],
   "source": [
    "import itertools as it"
   ]
  },
  {
   "cell_type": "code",
   "execution_count": 393,
   "metadata": {},
   "outputs": [],
   "source": [
    "attendees = \"\"\"\n",
    "Jame\tSmith\n",
    "Peter\tJones\n",
    "Tim\tPeak\n",
    "Sam\tTompson\n",
    "Terry\tJones\n",
    "Sammy\tSmith\n",
    "Emma\tFrank\n",
    "Bob\tHope\n",
    "\"\"\"\n",
    "\n",
    "attendees = attendees.replace(\"\\t\", \" \").strip().split(\"\\n\")"
   ]
  },
  {
   "cell_type": "code",
   "execution_count": 394,
   "metadata": {},
   "outputs": [
    {
     "data": {
      "text/plain": [
       "8"
      ]
     },
     "execution_count": 394,
     "metadata": {},
     "output_type": "execute_result"
    }
   ],
   "source": [
    "len(attendees)"
   ]
  },
  {
   "cell_type": "code",
   "execution_count": 395,
   "metadata": {},
   "outputs": [],
   "source": [
    "group_size = 2"
   ]
  },
  {
   "cell_type": "code",
   "execution_count": 396,
   "metadata": {},
   "outputs": [
    {
     "name": "stdout",
     "output_type": "stream",
     "text": [
      "[['Jame Smith', 'Peter Jones'], ['Tim Peak', 'Sam Tompson'], ['Terry Jones', 'Sammy Smith'], ['Emma Frank', 'Bob Hope']]\n"
     ]
    }
   ],
   "source": [
    "chunked_data = [\n",
    "    attendees[i : i + group_size] for i in range(0, len(attendees), group_size)\n",
    "]\n",
    "print(chunked_data)\n",
    "if len(chunked_data[-1]) == 1:\n",
    "    lone = chunked_data.pop()\n",
    "    chunked_data[-1] += lone\n",
    "\n",
    "if len(chunked_data) % 2 != 0:\n",
    "    last_group = chunked_data.pop()\n",
    "    while last_group:\n",
    "        for group in chunked_data:\n",
    "            while last_group:\n",
    "                name = last_group.pop()\n",
    "                group.append(name)\n",
    "                break\n",
    "            continue\n",
    "            "
   ]
  },
  {
   "cell_type": "code",
   "execution_count": 397,
   "metadata": {},
   "outputs": [
    {
     "data": {
      "text/plain": [
       "[['Jame Smith', 'Peter Jones'],\n",
       " ['Tim Peak', 'Sam Tompson'],\n",
       " ['Terry Jones', 'Sammy Smith'],\n",
       " ['Emma Frank', 'Bob Hope']]"
      ]
     },
     "execution_count": 397,
     "metadata": {},
     "output_type": "execute_result"
    }
   ],
   "source": [
    "chunked_data"
   ]
  },
  {
   "cell_type": "code",
   "execution_count": 360,
   "metadata": {},
   "outputs": [],
   "source": [
    "sessions = list(it.combinations(chunked_data, 2))\n",
    "session_num = round(len(sessions) / 2)"
   ]
  },
  {
   "cell_type": "code",
   "execution_count": 361,
   "metadata": {},
   "outputs": [
    {
     "data": {
      "text/plain": [
       "[(['Jame Smith', 'Peter Jones', 'Emma Frank'],\n",
       "  ['Tim Peak', 'Sam Tompson', 'Sammy Smith'])]"
      ]
     },
     "execution_count": 361,
     "metadata": {},
     "output_type": "execute_result"
    }
   ],
   "source": [
    "sessions"
   ]
  },
  {
   "cell_type": "code",
   "execution_count": 362,
   "metadata": {},
   "outputs": [
    {
     "data": {
      "text/plain": [
       "0"
      ]
     },
     "execution_count": 362,
     "metadata": {},
     "output_type": "execute_result"
    }
   ],
   "source": [
    "session_num"
   ]
  },
  {
   "cell_type": "code",
   "execution_count": 339,
   "metadata": {},
   "outputs": [
    {
     "data": {
      "text/plain": [
       "3.0"
      ]
     },
     "execution_count": 339,
     "metadata": {},
     "output_type": "execute_result"
    }
   ],
   "source": [
    "len(sessions)/2"
   ]
  },
  {
   "cell_type": "code",
   "execution_count": 340,
   "metadata": {},
   "outputs": [
    {
     "data": {
      "text/plain": [
       "['Jame', 'Peter', 'Tim', 'Sam']"
      ]
     },
     "execution_count": 340,
     "metadata": {},
     "output_type": "execute_result"
    }
   ],
   "source": [
    " [ name for names in (['Jame', 'Peter'], ['Tim', 'Sam']) for name in names]"
   ]
  },
  {
   "cell_type": "code",
   "execution_count": 341,
   "metadata": {},
   "outputs": [],
   "source": [
    "def generate_sesisons(sessions: int, group_size: int, attendees: list):\n",
    "\n",
    "    planned_sessions = {}\n",
    "\n",
    "    chunked_data = [\n",
    "        attendees[i : i + group_size] for i in range(0, len(attendees), group_size)\n",
    "    ]\n",
    "\n",
    "    rooms = len(chunked_data) / 2\n",
    "    needed_sessions = list(it.combinations(chunked_data, 2))\n",
    "    sorted_sessions = {}\n",
    "    \n",
    "    for session in range(sessions):\n",
    "        print(f\"Session {session}\")\n",
    "        sorted_sessions[session] = {}\n",
    "        picked = []\n",
    "        for room in range(int(rooms)):\n",
    "                \n",
    "            for i, pick_session in enumerate(needed_sessions):\n",
    "                next_sesion = False\n",
    "                flatted_session =  [name for names in pick_session for name in names]\n",
    "                \n",
    "                for name in flatted_session:\n",
    "                    if name in set(picked):\n",
    "                        next_sesion = True\n",
    "                if not next_sesion:\n",
    "                    print(f\" {room} {pick_session}\")\n",
    "                    picked += (flatted_session)\n",
    "                    sorted_sessions[session][room] = flatted_session\n",
    "                    needed_sessions.pop(i) \n",
    "                    break\n",
    "    return sorted_sessions"
   ]
  },
  {
   "cell_type": "code",
   "execution_count": 241,
   "metadata": {},
   "outputs": [],
   "source": [
    "sessions = 3\n",
    "group_size = 2"
   ]
  },
  {
   "cell_type": "code",
   "execution_count": 242,
   "metadata": {},
   "outputs": [
    {
     "name": "stdout",
     "output_type": "stream",
     "text": [
      "Session 0\n",
      " 0 (['Jame', 'Peter'], ['Tim', 'Sam'])\n",
      " 1 (['Terry', 'Sammy'], ['Emma', 'Bob'])\n",
      "Session 1\n",
      " 0 (['Jame', 'Peter'], ['Terry', 'Sammy'])\n",
      " 1 (['Tim', 'Sam'], ['Emma', 'Bob'])\n",
      "Session 2\n",
      " 0 (['Jame', 'Peter'], ['Emma', 'Bob'])\n",
      " 1 (['Tim', 'Sam'], ['Terry', 'Sammy'])\n"
     ]
    }
   ],
   "source": [
    "planned_sessions = generate_sesisons(sessions, group_size, attendees)"
   ]
  },
  {
   "cell_type": "code",
   "execution_count": 133,
   "metadata": {},
   "outputs": [],
   "source": [
    "assigned = {1 : (['Terry', 'Sammy'], ['Emma', 'Bob']) , 2 : (['Tim', 'Sam'], ['Terry', 'Sammy'])}"
   ]
  },
  {
   "cell_type": "code",
   "execution_count": 134,
   "metadata": {},
   "outputs": [
    {
     "data": {
      "text/plain": [
       "True"
      ]
     },
     "execution_count": 134,
     "metadata": {},
     "output_type": "execute_result"
    }
   ],
   "source": [
    "(['Terry', 'Sammy'], ['Emma', 'Bob'])  in assigned.values()"
   ]
  },
  {
   "cell_type": "code",
   "execution_count": 247,
   "metadata": {},
   "outputs": [
    {
     "data": {
      "text/plain": [
       "{0: {0: ['Jame', 'Peter', 'Tim', 'Sam'], 1: ['Terry', 'Sammy', 'Emma', 'Bob']},\n",
       " 1: {0: ['Jame', 'Peter', 'Terry', 'Sammy'], 1: ['Tim', 'Sam', 'Emma', 'Bob']},\n",
       " 2: {0: ['Jame', 'Peter', 'Emma', 'Bob'], 1: ['Tim', 'Sam', 'Terry', 'Sammy']}}"
      ]
     },
     "execution_count": 247,
     "metadata": {},
     "output_type": "execute_result"
    }
   ],
   "source": [
    "planned_sessions"
   ]
  },
  {
   "cell_type": "code",
   "execution_count": 245,
   "metadata": {},
   "outputs": [
    {
     "name": "stdout",
     "output_type": "stream",
     "text": [
      "{0: ['Jame', 'Peter', 'Tim', 'Sam'], 1: ['Terry', 'Sammy', 'Emma', 'Bob']}\n",
      "{0: ['Jame', 'Peter', 'Terry', 'Sammy'], 1: ['Tim', 'Sam', 'Emma', 'Bob']}\n",
      "{0: ['Jame', 'Peter', 'Emma', 'Bob'], 1: ['Tim', 'Sam', 'Terry', 'Sammy']}\n"
     ]
    }
   ],
   "source": [
    "for session in planned_sessions.values():\n",
    "    print(session)"
   ]
  },
  {
   "cell_type": "code",
   "execution_count": 246,
   "metadata": {},
   "outputs": [
    {
     "data": {
      "text/plain": [
       "3"
      ]
     },
     "execution_count": 246,
     "metadata": {},
     "output_type": "execute_result"
    }
   ],
   "source": [
    "len(planned_sessions)"
   ]
  },
  {
   "cell_type": "code",
   "execution_count": 252,
   "metadata": {},
   "outputs": [
    {
     "name": "stdout",
     "output_type": "stream",
     "text": [
      "0\n",
      "['Jame', 'Peter', 'Tim', 'Sam']\n",
      "1\n",
      "['Terry', 'Sammy', 'Emma', 'Bob']\n"
     ]
    }
   ],
   "source": [
    "for i, v in planned_sessions[0].items():\n",
    "    print(i)\n",
    "    print(v)"
   ]
  },
  {
   "cell_type": "code",
   "execution_count": null,
   "metadata": {},
   "outputs": [],
   "source": []
  }
 ],
 "metadata": {
  "kernelspec": {
   "display_name": "Python 3",
   "language": "python",
   "name": "python3"
  },
  "language_info": {
   "codemirror_mode": {
    "name": "ipython",
    "version": 3
   },
   "file_extension": ".py",
   "mimetype": "text/x-python",
   "name": "python",
   "nbconvert_exporter": "python",
   "pygments_lexer": "ipython3",
   "version": "3.8.5"
  }
 },
 "nbformat": 4,
 "nbformat_minor": 4
}
